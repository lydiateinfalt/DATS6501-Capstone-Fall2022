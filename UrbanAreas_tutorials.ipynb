{
  "cells": [
    {
      "cell_type": "code",
      "execution_count": 1,
      "metadata": {
        "colab": {
          "base_uri": "https://localhost:8080/"
        },
        "id": "Nka_CMheSKl7",
        "outputId": "0d2d6bc1-e955-4dfc-fdb1-903e2e950c21"
      },
      "outputs": [
        {
          "output_type": "stream",
          "name": "stdout",
          "text": [
            "Looking in indexes: https://pypi.org/simple, https://us-python.pkg.dev/colab-wheels/public/simple/\n",
            "Requirement already satisfied: gdal in /usr/local/lib/python3.7/dist-packages (2.2.2)\n"
          ]
        }
      ],
      "source": [
        "pip install gdal"
      ]
    },
    {
      "cell_type": "code",
      "execution_count": 2,
      "metadata": {
        "colab": {
          "base_uri": "https://localhost:8080/"
        },
        "id": "s72-aQhqSKl8",
        "outputId": "29c085da-4033-4bce-edd4-a7805af91f61"
      },
      "outputs": [
        {
          "output_type": "stream",
          "name": "stdout",
          "text": [
            "Looking in indexes: https://pypi.org/simple, https://us-python.pkg.dev/colab-wheels/public/simple/\n",
            "Collecting geopandas\n",
            "  Downloading geopandas-0.10.2-py2.py3-none-any.whl (1.0 MB)\n",
            "\u001b[K     |████████████████████████████████| 1.0 MB 6.9 MB/s \n",
            "\u001b[?25hCollecting fiona>=1.8\n",
            "  Downloading Fiona-1.8.21-cp37-cp37m-manylinux2014_x86_64.whl (16.7 MB)\n",
            "\u001b[K     |████████████████████████████████| 16.7 MB 380 kB/s \n",
            "\u001b[?25hRequirement already satisfied: pandas>=0.25.0 in /usr/local/lib/python3.7/dist-packages (from geopandas) (1.3.5)\n",
            "Requirement already satisfied: shapely>=1.6 in /usr/local/lib/python3.7/dist-packages (from geopandas) (1.8.4)\n",
            "Collecting pyproj>=2.2.0\n",
            "  Downloading pyproj-3.2.1-cp37-cp37m-manylinux2010_x86_64.whl (6.3 MB)\n",
            "\u001b[K     |████████████████████████████████| 6.3 MB 33.7 MB/s \n",
            "\u001b[?25hRequirement already satisfied: certifi in /usr/local/lib/python3.7/dist-packages (from fiona>=1.8->geopandas) (2022.6.15)\n",
            "Requirement already satisfied: attrs>=17 in /usr/local/lib/python3.7/dist-packages (from fiona>=1.8->geopandas) (22.1.0)\n",
            "Requirement already satisfied: setuptools in /usr/local/lib/python3.7/dist-packages (from fiona>=1.8->geopandas) (57.4.0)\n",
            "Collecting click-plugins>=1.0\n",
            "  Downloading click_plugins-1.1.1-py2.py3-none-any.whl (7.5 kB)\n",
            "Requirement already satisfied: click>=4.0 in /usr/local/lib/python3.7/dist-packages (from fiona>=1.8->geopandas) (7.1.2)\n",
            "Requirement already satisfied: six>=1.7 in /usr/local/lib/python3.7/dist-packages (from fiona>=1.8->geopandas) (1.15.0)\n",
            "Collecting munch\n",
            "  Downloading munch-2.5.0-py2.py3-none-any.whl (10 kB)\n",
            "Collecting cligj>=0.5\n",
            "  Downloading cligj-0.7.2-py3-none-any.whl (7.1 kB)\n",
            "Requirement already satisfied: python-dateutil>=2.7.3 in /usr/local/lib/python3.7/dist-packages (from pandas>=0.25.0->geopandas) (2.8.2)\n",
            "Requirement already satisfied: pytz>=2017.3 in /usr/local/lib/python3.7/dist-packages (from pandas>=0.25.0->geopandas) (2022.2.1)\n",
            "Requirement already satisfied: numpy>=1.17.3 in /usr/local/lib/python3.7/dist-packages (from pandas>=0.25.0->geopandas) (1.21.6)\n",
            "Installing collected packages: munch, cligj, click-plugins, pyproj, fiona, geopandas\n",
            "Successfully installed click-plugins-1.1.1 cligj-0.7.2 fiona-1.8.21 geopandas-0.10.2 munch-2.5.0 pyproj-3.2.1\n"
          ]
        }
      ],
      "source": [
        "pip install geopandas"
      ]
    },
    {
      "cell_type": "code",
      "execution_count": 3,
      "metadata": {
        "colab": {
          "base_uri": "https://localhost:8080/"
        },
        "id": "YFvamQMdSKl8",
        "outputId": "e9c5a1e4-4ab6-46e5-f365-afed6f06f364"
      },
      "outputs": [
        {
          "output_type": "stream",
          "name": "stdout",
          "text": [
            "Looking in indexes: https://pypi.org/simple, https://us-python.pkg.dev/colab-wheels/public/simple/\n",
            "Collecting rasterio\n",
            "  Downloading rasterio-1.2.10-cp37-cp37m-manylinux1_x86_64.whl (19.3 MB)\n",
            "\u001b[K     |████████████████████████████████| 19.3 MB 1.2 MB/s \n",
            "\u001b[?25hRequirement already satisfied: numpy in /usr/local/lib/python3.7/dist-packages (from rasterio) (1.21.6)\n",
            "Collecting snuggs>=1.4.1\n",
            "  Downloading snuggs-1.4.7-py3-none-any.whl (5.4 kB)\n",
            "Requirement already satisfied: setuptools in /usr/local/lib/python3.7/dist-packages (from rasterio) (57.4.0)\n",
            "Collecting affine\n",
            "  Downloading affine-2.3.1-py2.py3-none-any.whl (16 kB)\n",
            "Requirement already satisfied: click-plugins in /usr/local/lib/python3.7/dist-packages (from rasterio) (1.1.1)\n",
            "Requirement already satisfied: attrs in /usr/local/lib/python3.7/dist-packages (from rasterio) (22.1.0)\n",
            "Requirement already satisfied: cligj>=0.5 in /usr/local/lib/python3.7/dist-packages (from rasterio) (0.7.2)\n",
            "Requirement already satisfied: certifi in /usr/local/lib/python3.7/dist-packages (from rasterio) (2022.6.15)\n",
            "Requirement already satisfied: click>=4.0 in /usr/local/lib/python3.7/dist-packages (from rasterio) (7.1.2)\n",
            "Requirement already satisfied: pyparsing>=2.1.6 in /usr/local/lib/python3.7/dist-packages (from snuggs>=1.4.1->rasterio) (3.0.9)\n",
            "Installing collected packages: snuggs, affine, rasterio\n",
            "Successfully installed affine-2.3.1 rasterio-1.2.10 snuggs-1.4.7\n"
          ]
        }
      ],
      "source": [
        "pip install rasterio"
      ]
    },
    {
      "cell_type": "code",
      "source": [
        "pip install geojson"
      ],
      "metadata": {
        "colab": {
          "base_uri": "https://localhost:8080/"
        },
        "id": "2qhcTs_uXBGs",
        "outputId": "255b8589-31fa-41b8-b7c2-13cca9cf906d"
      },
      "execution_count": 4,
      "outputs": [
        {
          "output_type": "stream",
          "name": "stdout",
          "text": [
            "Looking in indexes: https://pypi.org/simple, https://us-python.pkg.dev/colab-wheels/public/simple/\n",
            "Collecting geojson\n",
            "  Downloading geojson-2.5.0-py2.py3-none-any.whl (14 kB)\n",
            "Installing collected packages: geojson\n",
            "Successfully installed geojson-2.5.0\n"
          ]
        }
      ]
    },
    {
      "cell_type": "code",
      "source": [
        "pip install json"
      ],
      "metadata": {
        "colab": {
          "base_uri": "https://localhost:8080/"
        },
        "id": "IWDQyQD9XMcx",
        "outputId": "5b4f9d49-564a-423f-9464-0399f5a5fae4"
      },
      "execution_count": 5,
      "outputs": [
        {
          "output_type": "stream",
          "name": "stdout",
          "text": [
            "Looking in indexes: https://pypi.org/simple, https://us-python.pkg.dev/colab-wheels/public/simple/\n",
            "\u001b[31mERROR: Could not find a version that satisfies the requirement json (from versions: none)\u001b[0m\n",
            "\u001b[31mERROR: No matching distribution found for json\u001b[0m\n"
          ]
        }
      ]
    },
    {
      "cell_type": "code",
      "source": [
        "pip install GOSTRocks"
      ],
      "metadata": {
        "colab": {
          "base_uri": "https://localhost:8080/",
          "height": 1000
        },
        "id": "YBfYs0oKN9az",
        "outputId": "4fe0c55f-22d2-4c96-907f-b891f04f1c31"
      },
      "execution_count": 16,
      "outputs": [
        {
          "output_type": "stream",
          "name": "stdout",
          "text": [
            "Looking in indexes: https://pypi.org/simple, https://us-python.pkg.dev/colab-wheels/public/simple/\n",
            "Collecting GOSTRocks\n",
            "  Downloading GOSTRocks-0.0.2-py2.py3-none-any.whl (19 kB)\n",
            "Requirement already satisfied: networkx in /usr/local/lib/python3.7/dist-packages (from GOSTRocks) (2.6.3)\n",
            "Requirement already satisfied: geopandas in /usr/local/lib/python3.7/dist-packages (from GOSTRocks) (0.10.2)\n",
            "Collecting GOSTNets\n",
            "  Downloading GOSTnets-1.0.1-py2.py3-none-any.whl (85 kB)\n",
            "\u001b[K     |████████████████████████████████| 85 kB 2.5 MB/s \n",
            "\u001b[?25hCollecting rtree\n",
            "  Downloading Rtree-1.0.0-cp37-cp37m-manylinux_2_17_x86_64.manylinux2014_x86_64.whl (1.0 MB)\n",
            "\u001b[K     |████████████████████████████████| 1.0 MB 46.7 MB/s \n",
            "\u001b[?25hRequirement already satisfied: seaborn in /usr/local/lib/python3.7/dist-packages (from GOSTRocks) (0.11.2)\n",
            "Requirement already satisfied: pyproj in /usr/local/lib/python3.7/dist-packages (from GOSTRocks) (3.2.1)\n",
            "Requirement already satisfied: pandas in /usr/local/lib/python3.7/dist-packages (from GOSTRocks) (1.3.5)\n",
            "Collecting osmnx\n",
            "  Downloading osmnx-1.1.2-py2.py3-none-any.whl (95 kB)\n",
            "\u001b[K     |████████████████████████████████| 95 kB 5.4 MB/s \n",
            "\u001b[?25hRequirement already satisfied: scikit-image in /usr/local/lib/python3.7/dist-packages (from GOSTRocks) (0.18.3)\n",
            "Requirement already satisfied: rasterio in /usr/local/lib/python3.7/dist-packages (from GOSTRocks) (1.2.10)\n",
            "Collecting rioxarray\n",
            "  Downloading rioxarray-0.9.1.tar.gz (47 kB)\n",
            "\u001b[K     |████████████████████████████████| 47 kB 4.6 MB/s \n",
            "\u001b[?25h  Installing build dependencies ... \u001b[?25l\u001b[?25hdone\n",
            "  Getting requirements to build wheel ... \u001b[?25l\u001b[?25hdone\n",
            "    Preparing wheel metadata ... \u001b[?25l\u001b[?25hdone\n",
            "Requirement already satisfied: xarray in /usr/local/lib/python3.7/dist-packages (from GOSTRocks) (0.20.2)\n",
            "Collecting ogr\n",
            "  Downloading ogr-0.40.0-py2.py3-none-any.whl (76 kB)\n",
            "\u001b[K     |████████████████████████████████| 76 kB 5.9 MB/s \n",
            "\u001b[?25hRequirement already satisfied: numpy in /usr/local/lib/python3.7/dist-packages (from GOSTRocks) (1.21.6)\n",
            "Requirement already satisfied: shapely>=1.6 in /usr/local/lib/python3.7/dist-packages (from geopandas->GOSTRocks) (1.8.4)\n",
            "Requirement already satisfied: fiona>=1.8 in /usr/local/lib/python3.7/dist-packages (from geopandas->GOSTRocks) (1.8.21)\n",
            "Requirement already satisfied: cligj>=0.5 in /usr/local/lib/python3.7/dist-packages (from fiona>=1.8->geopandas->GOSTRocks) (0.7.2)\n",
            "Requirement already satisfied: six>=1.7 in /usr/local/lib/python3.7/dist-packages (from fiona>=1.8->geopandas->GOSTRocks) (1.15.0)\n",
            "Requirement already satisfied: attrs>=17 in /usr/local/lib/python3.7/dist-packages (from fiona>=1.8->geopandas->GOSTRocks) (22.1.0)\n",
            "Requirement already satisfied: click-plugins>=1.0 in /usr/local/lib/python3.7/dist-packages (from fiona>=1.8->geopandas->GOSTRocks) (1.1.1)\n",
            "Requirement already satisfied: certifi in /usr/local/lib/python3.7/dist-packages (from fiona>=1.8->geopandas->GOSTRocks) (2022.6.15)\n",
            "Requirement already satisfied: munch in /usr/local/lib/python3.7/dist-packages (from fiona>=1.8->geopandas->GOSTRocks) (2.5.0)\n",
            "Requirement already satisfied: setuptools in /usr/local/lib/python3.7/dist-packages (from fiona>=1.8->geopandas->GOSTRocks) (57.4.0)\n",
            "Requirement already satisfied: click>=4.0 in /usr/local/lib/python3.7/dist-packages (from fiona>=1.8->geopandas->GOSTRocks) (7.1.2)\n",
            "Requirement already satisfied: pytz>=2017.3 in /usr/local/lib/python3.7/dist-packages (from pandas->GOSTRocks) (2022.2.1)\n",
            "Requirement already satisfied: python-dateutil>=2.7.3 in /usr/local/lib/python3.7/dist-packages (from pandas->GOSTRocks) (2.8.2)\n",
            "Requirement already satisfied: scipy in /usr/local/lib/python3.7/dist-packages (from GOSTNets->GOSTRocks) (1.7.3)\n",
            "Requirement already satisfied: urllib3 in /usr/local/lib/python3.7/dist-packages (from ogr->GOSTRocks) (1.24.3)\n",
            "Collecting cryptography\n",
            "  Downloading cryptography-38.0.1-cp36-abi3-manylinux_2_24_x86_64.whl (4.0 MB)\n",
            "\u001b[K     |████████████████████████████████| 4.0 MB 43.9 MB/s \n",
            "\u001b[?25hRequirement already satisfied: PyYAML in /usr/local/lib/python3.7/dist-packages (from ogr->GOSTRocks) (6.0)\n",
            "Collecting PyGithub\n",
            "  Downloading PyGithub-1.55-py3-none-any.whl (291 kB)\n",
            "\u001b[K     |████████████████████████████████| 291 kB 61.0 MB/s \n",
            "\u001b[?25hCollecting python-gitlab\n",
            "  Downloading python_gitlab-3.10.0-py3-none-any.whl (127 kB)\n",
            "\u001b[K     |████████████████████████████████| 127 kB 69.9 MB/s \n",
            "\u001b[?25hRequirement already satisfied: importlib-metadata in /usr/local/lib/python3.7/dist-packages (from ogr->GOSTRocks) (4.12.0)\n",
            "Collecting Deprecated\n",
            "  Downloading Deprecated-1.2.13-py2.py3-none-any.whl (9.6 kB)\n",
            "Requirement already satisfied: requests in /usr/local/lib/python3.7/dist-packages (from ogr->GOSTRocks) (2.23.0)\n",
            "Collecting GitPython\n",
            "  Downloading GitPython-3.1.27-py3-none-any.whl (181 kB)\n",
            "\u001b[K     |████████████████████████████████| 181 kB 70.8 MB/s \n",
            "\u001b[?25hRequirement already satisfied: cffi>=1.12 in /usr/local/lib/python3.7/dist-packages (from cryptography->ogr->GOSTRocks) (1.15.1)\n",
            "Requirement already satisfied: pycparser in /usr/local/lib/python3.7/dist-packages (from cffi>=1.12->cryptography->ogr->GOSTRocks) (2.21)\n",
            "Requirement already satisfied: wrapt<2,>=1.10 in /usr/local/lib/python3.7/dist-packages (from Deprecated->ogr->GOSTRocks) (1.14.1)\n",
            "Requirement already satisfied: typing-extensions>=3.7.4.3 in /usr/local/lib/python3.7/dist-packages (from GitPython->ogr->GOSTRocks) (4.1.1)\n",
            "Collecting gitdb<5,>=4.0.1\n",
            "  Downloading gitdb-4.0.9-py3-none-any.whl (63 kB)\n",
            "\u001b[K     |████████████████████████████████| 63 kB 1.8 MB/s \n",
            "\u001b[?25hCollecting smmap<6,>=3.0.1\n",
            "  Downloading smmap-5.0.0-py3-none-any.whl (24 kB)\n",
            "Requirement already satisfied: zipp>=0.5 in /usr/local/lib/python3.7/dist-packages (from importlib-metadata->ogr->GOSTRocks) (3.8.1)\n",
            "Collecting matplotlib>=3.4\n",
            "  Downloading matplotlib-3.5.3-cp37-cp37m-manylinux_2_5_x86_64.manylinux1_x86_64.whl (11.2 MB)\n",
            "\u001b[K     |████████████████████████████████| 11.2 MB 38.7 MB/s \n",
            "\u001b[?25hCollecting requests\n",
            "  Downloading requests-2.28.1-py3-none-any.whl (62 kB)\n",
            "\u001b[K     |████████████████████████████████| 62 kB 1.7 MB/s \n",
            "\u001b[?25hRequirement already satisfied: packaging>=20.0 in /usr/local/lib/python3.7/dist-packages (from matplotlib>=3.4->osmnx->GOSTRocks) (21.3)\n",
            "Collecting fonttools>=4.22.0\n",
            "  Downloading fonttools-4.37.4-py3-none-any.whl (960 kB)\n",
            "\u001b[K     |████████████████████████████████| 960 kB 57.5 MB/s \n",
            "\u001b[?25hRequirement already satisfied: cycler>=0.10 in /usr/local/lib/python3.7/dist-packages (from matplotlib>=3.4->osmnx->GOSTRocks) (0.11.0)\n",
            "Requirement already satisfied: pyparsing>=2.2.1 in /usr/local/lib/python3.7/dist-packages (from matplotlib>=3.4->osmnx->GOSTRocks) (3.0.9)\n",
            "Requirement already satisfied: pillow>=6.2.0 in /usr/local/lib/python3.7/dist-packages (from matplotlib>=3.4->osmnx->GOSTRocks) (7.1.2)\n",
            "Requirement already satisfied: kiwisolver>=1.0.1 in /usr/local/lib/python3.7/dist-packages (from matplotlib>=3.4->osmnx->GOSTRocks) (1.4.4)\n",
            "Requirement already satisfied: idna<4,>=2.5 in /usr/local/lib/python3.7/dist-packages (from requests->ogr->GOSTRocks) (2.10)\n",
            "Requirement already satisfied: charset-normalizer<3,>=2 in /usr/local/lib/python3.7/dist-packages (from requests->ogr->GOSTRocks) (2.1.1)\n",
            "Collecting pyjwt>=2.0\n",
            "  Downloading PyJWT-2.5.0-py3-none-any.whl (20 kB)\n",
            "Collecting pynacl>=1.4.0\n",
            "  Downloading PyNaCl-1.5.0-cp36-abi3-manylinux_2_17_x86_64.manylinux2014_x86_64.manylinux_2_24_x86_64.whl (856 kB)\n",
            "\u001b[K     |████████████████████████████████| 856 kB 55.3 MB/s \n",
            "\u001b[?25hCollecting requests-toolbelt>=0.9.1\n",
            "  Downloading requests_toolbelt-0.9.1-py2.py3-none-any.whl (54 kB)\n",
            "\u001b[K     |████████████████████████████████| 54 kB 3.0 MB/s \n",
            "\u001b[?25hRequirement already satisfied: affine in /usr/local/lib/python3.7/dist-packages (from rasterio->GOSTRocks) (2.3.1)\n",
            "Requirement already satisfied: snuggs>=1.4.1 in /usr/local/lib/python3.7/dist-packages (from rasterio->GOSTRocks) (1.4.7)\n",
            "Requirement already satisfied: imageio>=2.3.0 in /usr/local/lib/python3.7/dist-packages (from scikit-image->GOSTRocks) (2.9.0)\n",
            "Requirement already satisfied: tifffile>=2019.7.26 in /usr/local/lib/python3.7/dist-packages (from scikit-image->GOSTRocks) (2021.11.2)\n",
            "Requirement already satisfied: PyWavelets>=1.1.1 in /usr/local/lib/python3.7/dist-packages (from scikit-image->GOSTRocks) (1.3.0)\n",
            "Building wheels for collected packages: rioxarray\n",
            "  Building wheel for rioxarray (PEP 517) ... \u001b[?25l\u001b[?25hdone\n",
            "  Created wheel for rioxarray: filename=rioxarray-0.9.1-py3-none-any.whl size=54611 sha256=78c8345cbc791103dd44747172904274ad0a4c150c3c3cfa69e7644927fe5417\n",
            "  Stored in directory: /root/.cache/pip/wheels/07/da/9e/1cc57b2e7a29a206893db83e984a341e2e94378263e0798229\n",
            "Successfully built rioxarray\n",
            "Installing collected packages: smmap, requests, fonttools, rtree, requests-toolbelt, pynacl, pyjwt, matplotlib, gitdb, Deprecated, python-gitlab, PyGithub, osmnx, GitPython, cryptography, rioxarray, ogr, GOSTNets, GOSTRocks\n",
            "  Attempting uninstall: requests\n",
            "    Found existing installation: requests 2.23.0\n",
            "    Uninstalling requests-2.23.0:\n",
            "      Successfully uninstalled requests-2.23.0\n",
            "  Attempting uninstall: matplotlib\n",
            "    Found existing installation: matplotlib 3.2.2\n",
            "    Uninstalling matplotlib-3.2.2:\n",
            "      Successfully uninstalled matplotlib-3.2.2\n",
            "Successfully installed Deprecated-1.2.13 GOSTNets-1.0.1 GOSTRocks-0.0.2 GitPython-3.1.27 PyGithub-1.55 cryptography-38.0.1 fonttools-4.37.4 gitdb-4.0.9 matplotlib-3.5.3 ogr-0.40.0 osmnx-1.1.2 pyjwt-2.5.0 pynacl-1.5.0 python-gitlab-3.10.0 requests-2.28.1 requests-toolbelt-0.9.1 rioxarray-0.9.1 rtree-1.0.0 smmap-5.0.0\n"
          ]
        },
        {
          "output_type": "display_data",
          "data": {
            "application/vnd.colab-display-data+json": {
              "pip_warning": {
                "packages": [
                  "matplotlib",
                  "mpl_toolkits"
                ]
              }
            }
          },
          "metadata": {}
        }
      ]
    },
    {
      "cell_type": "code",
      "execution_count": 17,
      "metadata": {
        "id": "wvS6rqz8SKl9"
      },
      "outputs": [],
      "source": [
        "import geopandas as gpd"
      ]
    },
    {
      "cell_type": "code",
      "execution_count": 18,
      "metadata": {
        "id": "F6FIjV80SKl9"
      },
      "outputs": [],
      "source": [
        "import rasterio"
      ]
    },
    {
      "cell_type": "code",
      "source": [
        "from google.colab import drive\n",
        "drive.mount('/content/drive')"
      ],
      "metadata": {
        "colab": {
          "base_uri": "https://localhost:8080/"
        },
        "id": "vzBKDZWUWW98",
        "outputId": "34cd5a53-8428-4d75-e36c-2ee7a9a11eff"
      },
      "execution_count": 19,
      "outputs": [
        {
          "output_type": "stream",
          "name": "stdout",
          "text": [
            "Drive already mounted at /content/drive; to attempt to forcibly remount, call drive.mount(\"/content/drive\", force_remount=True).\n"
          ]
        }
      ]
    },
    {
      "cell_type": "code",
      "execution_count": 20,
      "metadata": {
        "id": "h9sFwYKYSKl9"
      },
      "outputs": [],
      "source": [
        "import sys, os, importlib\n",
        "import rasterio\n",
        "\n",
        "import geopandas as gpd\n",
        "\n",
        "sys.path.append(\"../../\")\n",
        "\n",
        "\n"
      ]
    },
    {
      "cell_type": "code",
      "source": [
        "sys.path.append(\"/content/drive/My Drive/Colab Notebooks/\")"
      ],
      "metadata": {
        "id": "6D4WTz81WmI8"
      },
      "execution_count": 21,
      "outputs": []
    },
    {
      "cell_type": "code",
      "source": [
        "os.chdir('/content/drive/MyDrive/Colab Notebooks/GOST_Urban/')\n",
        "import src.GOST_Urban.UrbanRaster as urban"
      ],
      "metadata": {
        "id": "X2Pmvuc2W7E6"
      },
      "execution_count": 22,
      "outputs": []
    },
    {
      "cell_type": "code",
      "execution_count": 25,
      "metadata": {
        "id": "tenoY0xiSKl9"
      },
      "outputs": [],
      "source": [
        "# Define input population raster\n",
        "tutorial_folder = \"/content/drive/MyDrive/Colab Notebooks/GOST_Urban/data/Input Data Urban Calculations/FINAL_STANDARD_1KM\"\n",
        "output_folder = \"/content/drive/MyDrive/Colab Notebooks/GOST_Urban/data/Output\"\n",
        "data_folder = \"/content/drive/MyDrive/Colab Notebooks/GOST_Urban/data/\"\n",
        "aoi_file = os.path.join(data_folder, \"Sindh_Province.geojson\")\n",
        "pop_file = os.path.join(tutorial_folder, \"pak1k_gpo.tif\")\n",
        "out_urban = os.path.join(output_folder, \"urban_extents.geojson\")\n",
        "out_hd_urban = os.path.join(output_folder, \"hd_urban_extents.geojson\")\n",
        "\n",
        "inAOI = gpd.read_file(aoi_file)\n",
        "\n",
        "# Shouldn't need to execute this unless you change your AOI\n",
        "if not os.path.exists(pop_file):\n",
        "    sys.path.append(\"../../../gostrocks/src\")\n",
        "    import GOSTRocks.rasterMisc as rMisc\n",
        "    global_population = \"/content/drive/MyDrive/Colab Notebooks/GOST_Urban/data/ppp_2020_1km_Aggregated.tif\"\n",
        "    inR = rasterio.open(global_population)\n",
        "    rMisc.clipRaster(inR, inAOI, pop_file)\n",
        "    \n",
        "inR = rasterio.open(pop_file)"
      ]
    },
    {
      "cell_type": "code",
      "execution_count": 26,
      "metadata": {
        "id": "mtCHaZS-SKl-",
        "colab": {
          "base_uri": "https://localhost:8080/"
        },
        "outputId": "b1744937-3159-434f-834f-83e8acbfed82"
      },
      "outputs": [
        {
          "output_type": "execute_result",
          "data": {
            "text/plain": [
              "<bound method urbanGriddedPop.calculateUrban of <src.GOST_Urban.UrbanRaster.urbanGriddedPop object at 0x7fbd79ed0ad0>>"
            ]
          },
          "metadata": {},
          "execution_count": 26
        }
      ],
      "source": [
        "# calculate urban\n",
        "urban_calculator = urban.urbanGriddedPop(inR)\n",
        "urban_calculator.calculateUrban"
      ]
    },
    {
      "cell_type": "code",
      "execution_count": 27,
      "metadata": {
        "id": "PbBKV9BcSKl-",
        "colab": {
          "base_uri": "https://localhost:8080/"
        },
        "outputId": "a0a51940-31ec-448e-df68-97d894d0f1e3"
      },
      "outputs": [
        {
          "output_type": "stream",
          "name": "stdout",
          "text": [
            "23:42:37\t: Read in urban data\n",
            "23:42:38\t: Creating Shape 0\n",
            "23:42:57\t: Creating Shape 1000\n",
            "23:43:14\t: Creating Shape 2000\n",
            "23:43:34\t: Creating Shape 3000\n",
            "23:43:51\t: Creating Shape 4000\n",
            "23:44:07\t: Creating Shape 5000\n",
            "23:44:25\t: Creating Shape 6000\n",
            "23:44:41\t: Creating Shape 7000\n",
            "23:44:56\t: Creating Shape 8000\n",
            "23:45:08\t: Creating Shape 9000\n",
            "23:45:19\t: Creating Shape 10000\n",
            "23:45:30\t: Creating Shape 11000\n",
            "23:45:40\t: Creating Shape 12000\n",
            "23:45:53\t: Creating Shape 13000\n",
            "23:46:06\t: Creating Shape 14000\n",
            "23:46:20\t: Creating Shape 15000\n",
            "23:46:36\t: Creating Shape 16000\n",
            "23:46:53\t: Creating Shape 17000\n",
            "23:47:10\t: Creating Shape 18000\n",
            "23:47:28\t: Creating Shape 19000\n",
            "23:47:46\t: Creating Shape 20000\n",
            "23:47:58\t: Creating Shape 21000\n",
            "23:48:04\t: Creating Shape 22000\n",
            "23:48:08\t: Creating Shape 23000\n",
            "23:48:12\t: Creating Shape 24000\n",
            "23:48:21\t: Creating Shape 25000\n"
          ]
        }
      ],
      "source": [
        "urban_extents = urban_calculator.calculateUrban(densVal=300, totalPopThresh=5000, \n",
        "                                               smooth=False, queen=False,\n",
        "                                               verbose=True)"
      ]
    },
    {
      "cell_type": "code",
      "execution_count": 28,
      "metadata": {
        "id": "YMhrkvMkSKl-",
        "colab": {
          "base_uri": "https://localhost:8080/"
        },
        "outputId": "eee6c927-0533-4e3d-f73d-da2187f56d63"
      },
      "outputs": [
        {
          "output_type": "stream",
          "name": "stdout",
          "text": [
            "23:57:21\t: Read in urban data\n",
            "23:57:21\t: Creating Shape 0\n",
            "23:57:40\t: Creating Shape 1000\n",
            "23:58:03\t: Creating Shape 2000\n",
            "23:58:23\t: Creating Shape 3000\n",
            "23:58:42\t: Creating Shape 4000\n",
            "23:59:01\t: Creating Shape 5000\n",
            "23:59:23\t: Creating Shape 6000\n",
            "23:59:43\t: Creating Shape 7000\n",
            "00:00:03\t: Creating Shape 8000\n",
            "00:00:23\t: Creating Shape 9000\n"
          ]
        }
      ],
      "source": [
        "hd_urban_extents = urban_calculator.calculateUrban(densVal=1500, totalPopThresh=50000, \n",
        "                                               smooth=True, queen=True,\n",
        "                                               verbose=True)"
      ]
    },
    {
      "cell_type": "code",
      "execution_count": 29,
      "metadata": {
        "id": "DKgjx9DqSKl-"
      },
      "outputs": [],
      "source": [
        "output_folder = \"/content/drive/MyDrive/Colab Notebooks/GOST_Urban/data/Output\"\n",
        "out_urban = os.path.join(output_folder, \"urban_extents.geojson\")\n",
        "out_hd_urban = os.path.join(output_folder, \"hd_urban_extents.geojson\")\n",
        "\n",
        "urban_extents.to_file(out_urban, driver=\"GeoJSON\")\n",
        "hd_urban_extents.to_file(out_hd_urban, driver=\"GeoJSON\")"
      ]
    },
    {
      "cell_type": "code",
      "source": [
        "hd_urban_ext = '/content/drive/MyDrive/Colab Notebooks/GOST_Urban/data/Input Data Urban Calculations/FINAL_STANDARD_1KM/hd_urban_extents.geojson'\n",
        "hd_urban = gpd.read_file(hd_urban_ext)\n",
        "print(hd_urban.head())"
      ],
      "metadata": {
        "colab": {
          "base_uri": "https://localhost:8080/"
        },
        "id": "ZrX-k61d_cD2",
        "outputId": "25b1f3ae-517b-4286-ae93-d253b6a0ba5f"
      },
      "execution_count": 30,
      "outputs": [
        {
          "output_type": "stream",
          "name": "stdout",
          "text": [
            "   group    ID            Pop  \\\n",
            "0      0  9557   80840.877441   \n",
            "1      1  9558   54520.620117   \n",
            "2      2  9559   73693.902100   \n",
            "3      3  9560  154330.520508   \n",
            "4      4  9561   77582.209106   \n",
            "\n",
            "                                            geometry  \n",
            "0  POLYGON ((6336000.00000 4370000.00000, 6337000...  \n",
            "1  POLYGON ((6472000.00000 4359000.00000, 6472000...  \n",
            "2  POLYGON ((6533000.00000 4330000.00000, 6533000...  \n",
            "3  POLYGON ((6315000.00000 4323000.00000, 6315000...  \n",
            "4  POLYGON ((6348000.00000 4262000.00000, 6349000...  \n"
          ]
        }
      ]
    }
  ],
  "metadata": {
    "kernelspec": {
      "display_name": "Python 3 (ipykernel)",
      "language": "python",
      "name": "python3"
    },
    "language_info": {
      "codemirror_mode": {
        "name": "ipython",
        "version": 3
      },
      "file_extension": ".py",
      "mimetype": "text/x-python",
      "name": "python",
      "nbconvert_exporter": "python",
      "pygments_lexer": "ipython3",
      "version": "3.8.8"
    },
    "colab": {
      "provenance": []
    }
  },
  "nbformat": 4,
  "nbformat_minor": 0
}