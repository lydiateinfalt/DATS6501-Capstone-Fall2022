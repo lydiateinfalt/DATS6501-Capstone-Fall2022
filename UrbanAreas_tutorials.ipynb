{
 "cells": [
  {
   "cell_type": "code",
   "execution_count": 1,
   "metadata": {
    "colab": {
     "base_uri": "https://localhost:8080/"
    },
    "id": "Nka_CMheSKl7",
    "outputId": "51a7c178-4231-45b8-e5df-9b2bec722994"
   },
   "outputs": [
    {
     "output_type": "stream",
     "name": "stdout",
     "text": [
      "Looking in indexes: https://pypi.org/simple, https://us-python.pkg.dev/colab-wheels/public/simple/\n",
      "Requirement already satisfied: gdal in /usr/local/lib/python3.7/dist-packages (2.2.2)\n"
     ]
    }
   ],
   "source": [
    "pip install gdal"
   ]
  },
  {
   "cell_type": "code",
   "execution_count": 2,
   "metadata": {
    "colab": {
     "base_uri": "https://localhost:8080/"
    },
    "id": "s72-aQhqSKl8",
    "outputId": "02a48c95-d4ac-4b92-d67a-f86ddf8e7464"
   },
   "outputs": [
    {
     "output_type": "stream",
     "name": "stdout",
     "text": [
      "Looking in indexes: https://pypi.org/simple, https://us-python.pkg.dev/colab-wheels/public/simple/\n",
      "Collecting geopandas\n",
      "  Downloading geopandas-0.10.2-py2.py3-none-any.whl (1.0 MB)\n",
      "\u001B[K     |████████████████████████████████| 1.0 MB 8.8 MB/s \n",
      "\u001B[?25hRequirement already satisfied: shapely>=1.6 in /usr/local/lib/python3.7/dist-packages (from geopandas) (1.8.4)\n",
      "Requirement already satisfied: pandas>=0.25.0 in /usr/local/lib/python3.7/dist-packages (from geopandas) (1.3.5)\n",
      "Collecting fiona>=1.8\n",
      "  Downloading Fiona-1.8.21-cp37-cp37m-manylinux2014_x86_64.whl (16.7 MB)\n",
      "\u001B[K     |████████████████████████████████| 16.7 MB 455 kB/s \n",
      "\u001B[?25hCollecting pyproj>=2.2.0\n",
      "  Downloading pyproj-3.2.1-cp37-cp37m-manylinux2010_x86_64.whl (6.3 MB)\n",
      "\u001B[K     |████████████████████████████████| 6.3 MB 38.6 MB/s \n",
      "\u001B[?25hRequirement already satisfied: attrs>=17 in /usr/local/lib/python3.7/dist-packages (from fiona>=1.8->geopandas) (22.1.0)\n",
      "Requirement already satisfied: certifi in /usr/local/lib/python3.7/dist-packages (from fiona>=1.8->geopandas) (2022.6.15)\n",
      "Collecting click-plugins>=1.0\n",
      "  Downloading click_plugins-1.1.1-py2.py3-none-any.whl (7.5 kB)\n",
      "Requirement already satisfied: click>=4.0 in /usr/local/lib/python3.7/dist-packages (from fiona>=1.8->geopandas) (7.1.2)\n",
      "Requirement already satisfied: six>=1.7 in /usr/local/lib/python3.7/dist-packages (from fiona>=1.8->geopandas) (1.15.0)\n",
      "Requirement already satisfied: setuptools in /usr/local/lib/python3.7/dist-packages (from fiona>=1.8->geopandas) (57.4.0)\n",
      "Collecting munch\n",
      "  Downloading munch-2.5.0-py2.py3-none-any.whl (10 kB)\n",
      "Collecting cligj>=0.5\n",
      "  Downloading cligj-0.7.2-py3-none-any.whl (7.1 kB)\n",
      "Requirement already satisfied: python-dateutil>=2.7.3 in /usr/local/lib/python3.7/dist-packages (from pandas>=0.25.0->geopandas) (2.8.2)\n",
      "Requirement already satisfied: numpy>=1.17.3 in /usr/local/lib/python3.7/dist-packages (from pandas>=0.25.0->geopandas) (1.21.6)\n",
      "Requirement already satisfied: pytz>=2017.3 in /usr/local/lib/python3.7/dist-packages (from pandas>=0.25.0->geopandas) (2022.2.1)\n",
      "Installing collected packages: munch, cligj, click-plugins, pyproj, fiona, geopandas\n",
      "Successfully installed click-plugins-1.1.1 cligj-0.7.2 fiona-1.8.21 geopandas-0.10.2 munch-2.5.0 pyproj-3.2.1\n"
     ]
    }
   ],
   "source": [
    "pip install geopandas"
   ]
  },
  {
   "cell_type": "code",
   "execution_count": 3,
   "metadata": {
    "colab": {
     "base_uri": "https://localhost:8080/"
    },
    "id": "YFvamQMdSKl8",
    "outputId": "c7c13fe8-eaa0-48cb-c365-adcbfdc32a24"
   },
   "outputs": [
    {
     "output_type": "stream",
     "name": "stdout",
     "text": [
      "Looking in indexes: https://pypi.org/simple, https://us-python.pkg.dev/colab-wheels/public/simple/\n",
      "Collecting rasterio\n",
      "  Downloading rasterio-1.2.10-cp37-cp37m-manylinux1_x86_64.whl (19.3 MB)\n",
      "\u001B[K     |████████████████████████████████| 19.3 MB 1.1 MB/s \n",
      "\u001B[?25hCollecting affine\n",
      "  Downloading affine-2.3.1-py2.py3-none-any.whl (16 kB)\n",
      "Requirement already satisfied: certifi in /usr/local/lib/python3.7/dist-packages (from rasterio) (2022.6.15)\n",
      "Requirement already satisfied: attrs in /usr/local/lib/python3.7/dist-packages (from rasterio) (22.1.0)\n",
      "Requirement already satisfied: cligj>=0.5 in /usr/local/lib/python3.7/dist-packages (from rasterio) (0.7.2)\n",
      "Requirement already satisfied: click-plugins in /usr/local/lib/python3.7/dist-packages (from rasterio) (1.1.1)\n",
      "Collecting snuggs>=1.4.1\n",
      "  Downloading snuggs-1.4.7-py3-none-any.whl (5.4 kB)\n",
      "Requirement already satisfied: setuptools in /usr/local/lib/python3.7/dist-packages (from rasterio) (57.4.0)\n",
      "Requirement already satisfied: click>=4.0 in /usr/local/lib/python3.7/dist-packages (from rasterio) (7.1.2)\n",
      "Requirement already satisfied: numpy in /usr/local/lib/python3.7/dist-packages (from rasterio) (1.21.6)\n",
      "Requirement already satisfied: pyparsing>=2.1.6 in /usr/local/lib/python3.7/dist-packages (from snuggs>=1.4.1->rasterio) (3.0.9)\n",
      "Installing collected packages: snuggs, affine, rasterio\n",
      "Successfully installed affine-2.3.1 rasterio-1.2.10 snuggs-1.4.7\n"
     ]
    }
   ],
   "source": [
    "pip install rasterio"
   ]
  },
  {
   "cell_type": "code",
   "source": [
    "pip install geojson"
   ],
   "metadata": {
    "colab": {
     "base_uri": "https://localhost:8080/"
    },
    "id": "2qhcTs_uXBGs",
    "outputId": "199b945b-7e9f-4f69-b39d-573bcbf1acc0"
   },
   "execution_count": 4,
   "outputs": [
    {
     "output_type": "stream",
     "name": "stdout",
     "text": [
      "Looking in indexes: https://pypi.org/simple, https://us-python.pkg.dev/colab-wheels/public/simple/\n",
      "Collecting geojson\n",
      "  Downloading geojson-2.5.0-py2.py3-none-any.whl (14 kB)\n",
      "Installing collected packages: geojson\n",
      "Successfully installed geojson-2.5.0\n"
     ]
    }
   ]
  },
  {
   "cell_type": "code",
   "source": [
    "pip install json"
   ],
   "metadata": {
    "colab": {
     "base_uri": "https://localhost:8080/"
    },
    "id": "IWDQyQD9XMcx",
    "outputId": "509da72b-4a3d-4b52-ce0f-48d938abea14"
   },
   "execution_count": 5,
   "outputs": [
    {
     "output_type": "stream",
     "name": "stdout",
     "text": [
      "Looking in indexes: https://pypi.org/simple, https://us-python.pkg.dev/colab-wheels/public/simple/\n",
      "\u001B[31mERROR: Could not find a version that satisfies the requirement json (from versions: none)\u001B[0m\n",
      "\u001B[31mERROR: No matching distribution found for json\u001B[0m\n"
     ]
    }
   ]
  },
  {
   "cell_type": "code",
   "execution_count": 6,
   "metadata": {
    "id": "wvS6rqz8SKl9"
   },
   "outputs": [],
   "source": [
    "import geopandas as gpd"
   ]
  },
  {
   "cell_type": "code",
   "execution_count": 7,
   "metadata": {
    "id": "F6FIjV80SKl9"
   },
   "outputs": [],
   "source": [
    "import rasterio"
   ]
  },
  {
   "cell_type": "code",
   "source": [
    "from google.colab import drive\n",
    "drive.mount('/content/drive')"
   ],
   "metadata": {
    "colab": {
     "base_uri": "https://localhost:8080/"
    },
    "id": "vzBKDZWUWW98",
    "outputId": "778e956a-665a-42c7-cd70-3da9122bb4cd"
   },
   "execution_count": 8,
   "outputs": [
    {
     "output_type": "stream",
     "name": "stdout",
     "text": [
      "Mounted at /content/drive\n"
     ]
    }
   ]
  },
  {
   "cell_type": "code",
   "execution_count": 12,
   "metadata": {
    "id": "h9sFwYKYSKl9"
   },
   "outputs": [],
   "source": [
    "import sys, os, importlib\n",
    "import rasterio\n",
    "\n",
    "import geopandas as gpd\n",
    "\n",
    "sys.path.append(\"../../\")\n",
    "\n",
    "\n"
   ]
  },
  {
   "cell_type": "code",
   "source": [
    "sys.path.append(\"/content/drive/My Drive/Colab Notebooks/\")"
   ],
   "metadata": {
    "id": "6D4WTz81WmI8"
   },
   "execution_count": 13,
   "outputs": []
  },
  {
   "cell_type": "code",
   "source": [
    "os.chdir('/content/drive/MyDrive/Colab Notebooks/GOST_Urban/')\n",
    "import src.GOST_Urban.UrbanRaster as urban"
   ],
   "metadata": {
    "id": "X2Pmvuc2W7E6"
   },
   "execution_count": 15,
   "outputs": []
  },
  {
   "cell_type": "code",
   "execution_count": 38,
   "metadata": {
    "id": "tenoY0xiSKl9"
   },
   "outputs": [],
   "source": [
    "# Define input population raster\n",
    "tutorial_folder = \"/content/drive/MyDrive/Colab Notebooks/GOST_Urban/data/Input Data Urban Calculations/FINAL_STANDARD_1KM\"\n",
    "output_folder = \"/content/drive/MyDrive/Colab Notebooks/GOST_Urban/data/Output\"\n",
    "aoi_file = os.path.join(tutorial_folder, \"AOI.geojson\")\n",
    "pop_file = os.path.join(tutorial_folder, \"pak1k_gpo.tif\")\n",
    "out_urban = os.path.join(output_folder, \"urban_extents.geojson\")\n",
    "out_hd_urban = os.path.join(output_folder, \"hd_urban_extents.geojson\")\n",
    "\n",
    "#inAOI = gpd.read_file(aoi_file)\n",
    "\n",
    "# Shouldn't need to execute this unless you change your AOI\n",
    "if not os.path.exists(pop_file):\n",
    "    sys.path.append(\"../../../gostrocks/src\")\n",
    "    import GOSTRocks.rasterMisc as rMisc\n",
    "    global_population = \"/home/public/Data/GLOBAL/Population/WorldPop_PPP_2020/ppp_2020_1km_Aggregated.tif\"\n",
    "    inR = rasterio.open(global_population)\n",
    "    rMisc.clipRaster(inR, inAOI, pop_file)\n",
    "    \n",
    "inR = rasterio.open(pop_file)"
   ]
  },
  {
   "cell_type": "code",
   "execution_count": 33,
   "metadata": {
    "id": "mtCHaZS-SKl-",
    "colab": {
     "base_uri": "https://localhost:8080/"
    },
    "outputId": "4a69fae8-ac77-464d-ff41-c4cd1a0f748e"
   },
   "outputs": [
    {
     "output_type": "execute_result",
     "data": {
      "text/plain": [
       "<bound method urbanGriddedPop.calculateUrban of <src.GOST_Urban.UrbanRaster.urbanGriddedPop object at 0x7f2d8935fa90>>"
      ]
     },
     "metadata": {},
     "execution_count": 33
    }
   ],
   "source": [
    "# calculate urban\n",
    "urban_calculator = urban.urbanGriddedPop(inR)\n",
    "urban_calculator.calculateUrban"
   ]
  },
  {
   "cell_type": "code",
   "execution_count": 34,
   "metadata": {
    "id": "PbBKV9BcSKl-",
    "colab": {
     "base_uri": "https://localhost:8080/"
    },
    "outputId": "30fd9ee6-8aed-4d9a-fbaf-180c2f85ccd2"
   },
   "outputs": [
    {
     "output_type": "stream",
     "name": "stdout",
     "text": [
      "18:05:20\t: Read in urban data\n",
      "18:05:20\t: Creating Shape 0\n",
      "18:05:49\t: Creating Shape 1000\n",
      "18:06:12\t: Creating Shape 2000\n",
      "18:06:37\t: Creating Shape 3000\n",
      "18:07:00\t: Creating Shape 4000\n",
      "18:07:24\t: Creating Shape 5000\n",
      "18:07:49\t: Creating Shape 6000\n",
      "18:08:10\t: Creating Shape 7000\n",
      "18:08:31\t: Creating Shape 8000\n",
      "18:08:46\t: Creating Shape 9000\n",
      "18:09:01\t: Creating Shape 10000\n",
      "18:09:15\t: Creating Shape 11000\n",
      "18:09:29\t: Creating Shape 12000\n",
      "18:09:44\t: Creating Shape 13000\n",
      "18:10:00\t: Creating Shape 14000\n",
      "18:10:17\t: Creating Shape 15000\n",
      "18:10:38\t: Creating Shape 16000\n",
      "18:11:01\t: Creating Shape 17000\n",
      "18:11:27\t: Creating Shape 18000\n",
      "18:11:55\t: Creating Shape 19000\n",
      "18:12:23\t: Creating Shape 20000\n",
      "18:12:40\t: Creating Shape 21000\n",
      "18:12:49\t: Creating Shape 22000\n",
      "18:12:55\t: Creating Shape 23000\n",
      "18:13:00\t: Creating Shape 24000\n",
      "18:13:14\t: Creating Shape 25000\n"
     ]
    }
   ],
   "source": [
    "urban_extents = urban_calculator.calculateUrban(densVal=300, totalPopThresh=5000, \n",
    "                                               smooth=False, queen=False,\n",
    "                                               verbose=True)"
   ]
  },
  {
   "cell_type": "code",
   "execution_count": 35,
   "metadata": {
    "id": "YMhrkvMkSKl-",
    "colab": {
     "base_uri": "https://localhost:8080/"
    },
    "outputId": "a9f16c18-d560-46c8-e58c-d387747ed444"
   },
   "outputs": [
    {
     "output_type": "stream",
     "name": "stdout",
     "text": [
      "18:19:41\t: Read in urban data\n",
      "18:19:41\t: Creating Shape 0\n",
      "18:20:10\t: Creating Shape 1000\n",
      "18:20:38\t: Creating Shape 2000\n",
      "18:21:05\t: Creating Shape 3000\n",
      "18:21:33\t: Creating Shape 4000\n",
      "18:22:02\t: Creating Shape 5000\n",
      "18:22:28\t: Creating Shape 6000\n",
      "18:22:56\t: Creating Shape 7000\n",
      "18:23:24\t: Creating Shape 8000\n",
      "18:23:53\t: Creating Shape 9000\n"
     ]
    }
   ],
   "source": [
    "hd_urban_extents = urban_calculator.calculateUrban(densVal=1500, totalPopThresh=50000, \n",
    "                                               smooth=True, queen=True,\n",
    "                                               verbose=True)"
   ]
  },
  {
   "cell_type": "code",
   "execution_count": 41,
   "metadata": {
    "id": "DKgjx9DqSKl-"
   },
   "outputs": [],
   "source": [
    "out_urban = os.path.join(output_folder, \"urban_extents.geojson\")\n",
    "out_hd_urban = os.path.join(output_folder, \"hd_urban_extents.geojson\")\n",
    "\n",
    "urban_extents.to_file(out_urban, driver=\"GeoJSON\")\n",
    "hd_urban_extents.to_file(out_hd_urban, driver=\"GeoJSON\")"
   ]
  },
  {
   "cell_type": "code",
   "source": [
    "pip install geojson"
   ],
   "metadata": {
    "colab": {
     "base_uri": "https://localhost:8080/"
    },
    "id": "ZCgDVyV1_hJC",
    "outputId": "b2e6c24e-2ab8-4d10-8738-6dd1b42b0b03"
   },
   "execution_count": 28,
   "outputs": [
    {
     "output_type": "stream",
     "name": "stdout",
     "text": [
      "Looking in indexes: https://pypi.org/simple, https://us-python.pkg.dev/colab-wheels/public/simple/\n",
      "Requirement already satisfied: geojson in /usr/local/lib/python3.7/dist-packages (2.5.0)\n"
     ]
    }
   ]
  },
  {
   "cell_type": "code",
   "source": [
    "hd_urban_ext = '/content/drive/MyDrive/Colab Notebooks/GOST_Urban/data/Input Data Urban Calculations/FINAL_STANDARD_1KM/hd_urban_extents.geojson'\n",
    "hd_urban = gpd.read_file(hd_urban_ext)\n",
    "print(hd_urban.head())"
   ],
   "metadata": {
    "colab": {
     "base_uri": "https://localhost:8080/"
    },
    "id": "ZrX-k61d_cD2",
    "outputId": "91672d85-9a01-45ab-edcb-bef5c4b48f59"
   },
   "execution_count": 31,
   "outputs": [
    {
     "output_type": "stream",
     "name": "stdout",
     "text": [
      "   group    ID            Pop  \\\n",
      "0      0  9557   80840.877441   \n",
      "1      1  9558   54520.620117   \n",
      "2      2  9559   73693.902100   \n",
      "3      3  9560  154330.520508   \n",
      "4      4  9561   77582.209106   \n",
      "\n",
      "                                            geometry  \n",
      "0  POLYGON ((6336000.00000 4370000.00000, 6337000...  \n",
      "1  POLYGON ((6472000.00000 4359000.00000, 6472000...  \n",
      "2  POLYGON ((6533000.00000 4330000.00000, 6533000...  \n",
      "3  POLYGON ((6315000.00000 4323000.00000, 6315000...  \n",
      "4  POLYGON ((6348000.00000 4262000.00000, 6349000...  \n"
     ]
    }
   ]
  }
 ],
 "metadata": {
  "kernelspec": {
   "display_name": "Python 3 (ipykernel)",
   "language": "python",
   "name": "python3"
  },
  "language_info": {
   "codemirror_mode": {
    "name": "ipython",
    "version": 3
   },
   "file_extension": ".py",
   "mimetype": "text/x-python",
   "name": "python",
   "nbconvert_exporter": "python",
   "pygments_lexer": "ipython3",
   "version": "3.8.8"
  },
  "colab": {
   "provenance": []
  }
 },
 "nbformat": 4,
 "nbformat_minor": 0
}